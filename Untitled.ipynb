{
 "cells": [
  {
   "cell_type": "code",
   "execution_count": 38,
   "id": "aa84e664",
   "metadata": {},
   "outputs": [],
   "source": [
    "urls=[]"
   ]
  },
  {
   "cell_type": "code",
   "execution_count": 88,
   "id": "1d0d72d3",
   "metadata": {},
   "outputs": [
    {
     "name": "stdout",
     "output_type": "stream",
     "text": [
      "Enter the urlhttps://www.bbc.com/travel/article/20180828-the-last-of-the-good-samaritans\n"
     ]
    }
   ],
   "source": [
    "import requests\n",
    "from bs4 import BeautifulSoup\n",
    "import urllib.request\n",
    "import re\n",
    "import csv\n",
    "\n",
    "url=input(\"Enter the url\")\n",
    "urls.append(url)\n",
    "page = requests.get(url)\n",
    "soup = BeautifulSoup(page.content, 'html.parser')"
   ]
  },
  {
   "cell_type": "code",
   "execution_count": 70,
   "id": "3a0d0a04",
   "metadata": {},
   "outputs": [],
   "source": [
    "# soup.prettify()\n",
    "dic={'title':None,'content':None,'category':None,'url':None}"
   ]
  },
  {
   "cell_type": "code",
   "execution_count": 71,
   "id": "4b57f9f8",
   "metadata": {},
   "outputs": [],
   "source": [
    "dic['title']=soup.title.text"
   ]
  },
  {
   "cell_type": "code",
   "execution_count": 80,
   "id": "dc4dc814",
   "metadata": {},
   "outputs": [
    {
     "name": "stdout",
     "output_type": "stream",
     "text": [
      "\n",
      "\n",
      "\n",
      "\n",
      "\n",
      "Sublime sunsets around the world - BBC Travel\n",
      "\n",
      "\n",
      "\n",
      "\n",
      "\n",
      "\n",
      "\n",
      "\n",
      "\n",
      "\n",
      "\n",
      "\n",
      "\n",
      "\n",
      "\n",
      "\n",
      "\n",
      "\n",
      "\n",
      "\n",
      "\n",
      "\n",
      "\n",
      "\n",
      "\n",
      "\n",
      "\n",
      "\n",
      "\n",
      "\n",
      "\n",
      "\n",
      "\n",
      "  HomepageAccessibility linksSkip to contentAccessibility Help BBC AccountNotifications HomeNewsSportWeatheriPlayerSoundsCBBCCBeebiesFoodBitesizeArtsTasterLocalThreeMenu SearchSearch the BBCSearch the BBC  \n",
      "\n",
      "MenuLoadingSublime sunsets around the worldShare using EmailShare on TwitterShare on FacebookShare on LinkedinBy Kiran Herbert12th September 2013From New Zealand to Kansas, see dramatic colours paint the horizon as the landscape transitions from day to night.new zealand southern alps sunsetNew Zealand is among the first countries to experience sunrise – and, as a result, sunset. The South Island’s 450km-long Southern Alps, known for their glaciers and glacial lakes, create an epic landscape that is well suited to hikers who want to enjoy dusk in serene isolation. (Annie Griffiths/National Geographic Creative)cambodia beach sunset eventideAsia’s capacious beaches remain one of the most tranquil locales for ending the day. In Sihanoukville, Cambodia, vacationers can watch the sun set over Ochheuteal Beach, as they sip cocktails and await nightfall by the light of tiki torches. (Kris LeBoutillier/National Geographic Creative)greece santorini sunsetSantorini is one of 220 Greek islands that were created by the Minoan eruption, a volcanic explosion that divided up a single island into today’s beloved archipelago. Made picturesque by whitewashed buildings and an arid landscape, Santorini is a hedonist’s dream, with a slew of beaches, bars and infinity pools from which to enjoy the setting sun. (Michael Melford/National Geographic Creative)great plains kansas sunsetKansas – best known for flat landscapes, agriculture and the Wizard of Oz – was once the bed of an immense inland sea that stretched from the Gulf of Mexico through to the Arctic Ocean. It took millions of years for tallgrass prairie to cover near 170 million acres of North America, and just one century to develop and destroy it. At present, a mere 4% of prairie remains, mostly in the Kansas Flint Hills, where the lack of mountains and a [nature preserve](http://www.nps.gov/tapr/index.htm) make for stunning sundowns. (Jim Richardson/National Geographic Creative)baja mexico sunset californiaThe small island of San Esteben in Mexico’s Gulf of California is part of the greater landmass known as Baja California. Home to a variety of unusual reptiles and once inhabited by the Seri people, today it is common to see both researchers and travellers navigating the rugged terrain and the surrounding Sea of Cortez. The renowned sunrises and sunsets of Baja seem to fall over the horizon and bow off the face of the Earth. (Ralph Lee Hopkins/National Geographic Creative)polynesia tuamotu archipelago fakarava sunsetFakarava, located in French Polynesia’s Tuamotu Archipelago, is a 60km-long, 21km-wide strip of unsullied paradise. It is also a designated Unesco Biosphere Reserve due to the rare birds, plants and crustaceans who call the atoll home. With fewer than 1,000 residents living in two charming villages separated by an extensive lagoon, Fakarava is a popular destination for honeymooners who know the sunsets are hard to miss. (Aaron Huey/National Geographic Creative)Kiribati pheonix islands sunsetLocated smack in the middle of the Pacific Ocean, the island nation of Kiribati borders the International Date Line at its easternmost point. This makes it one of the last places on the planet to experience sundown, and the undeveloped landscape makes it one of the most beautiful. Pictured here is the view from Kiribati’s Phoenix Islands, a name whose origins have been lost to history. At the end of the day, however, the name seems especially appropriate for the embodiment of this fiery sunset and its mythological counterpart. (Paul Nicklen/National Geographic Creative)Share using EmailShare on TwitterShare on FacebookShare on LinkedinShareRecommended Articlestravel: Dawn around the worldAround the BBC\n",
      "\n",
      "\n",
      "\n",
      "\n",
      "\n",
      "\n",
      "\n",
      "  Explore the BBCHomeNewsSportWeatheriPlayerSoundsCBBCCBeebiesFoodBitesizeArtsTasterLocalThreeTerms of UseAbout the BBCPrivacy PolicyCookiesAccessibility HelpParental GuidanceContact the BBCGet Personalised NewslettersCopyright © 2021 BBC. The BBC is not responsible for the content of external sites. Read about our approach to external linking.     \n",
      "\n",
      "\n",
      "\n"
     ]
    }
   ],
   "source": [
    "dic['content']=soup.text\n",
    "dic['url']=url\n",
    "print(dic['content'])"
   ]
  },
  {
   "cell_type": "code",
   "execution_count": 81,
   "id": "e23fb773",
   "metadata": {},
   "outputs": [],
   "source": [
    "# print(soup.find_all(class_=\"gel-great-primer gs-u-display-inline-block gs-u-mv gs-u-pb--\"))"
   ]
  },
  {
   "cell_type": "code",
   "execution_count": 82,
   "id": "b59986e7",
   "metadata": {},
   "outputs": [],
   "source": [
    "# with open('output.csv','w') as f:\n",
    "#     f.write('')\n",
    "# print(dic)"
   ]
  },
  {
   "cell_type": "code",
   "execution_count": 83,
   "id": "1bdcf964",
   "metadata": {},
   "outputs": [
    {
     "name": "stdout",
     "output_type": "stream",
     "text": [
      "<class 'dict'>\n"
     ]
    }
   ],
   "source": [
    "print(type(dic))"
   ]
  },
  {
   "cell_type": "code",
   "execution_count": 84,
   "id": "6899fff7",
   "metadata": {},
   "outputs": [],
   "source": [
    "\n",
    "import csv\n",
    "l=[]\n",
    "l.append(dic)\n",
    "  \n",
    "field_names = ['title', 'content', 'category','url']\n",
    "  \n",
    "with open('output.csv', 'a') as csvfile:\n",
    "    writer = csv.DictWriter(csvfile, fieldnames = field_names)\n",
    "#     writer.writeheader()\n",
    "    writer.writerows(l)"
   ]
  },
  {
   "cell_type": "code",
   "execution_count": 85,
   "id": "339d84eb",
   "metadata": {},
   "outputs": [
    {
     "data": {
      "text/plain": [
       "['https://www.bbc.com/travel/article/20140707-trekking-to-bhutans-tigers-nest',\n",
       " 'https://www.bbc.com/travel/article/20130910-a-cultural-sanctuary-in-bhutan',\n",
       " 'https://www.bbc.com/travel/article/20120416-kingdom-in-the-clouds-of-bhutan',\n",
       " 'https://www.bbc.com/travel/article/20190319-a-journey-to-the-disappointment-islands',\n",
       " 'https://www.bbc.com/travel/article/20130910-sublime-sunsets-around-the-world']"
      ]
     },
     "execution_count": 85,
     "metadata": {},
     "output_type": "execute_result"
    }
   ],
   "source": [
    "urls"
   ]
  },
  {
   "cell_type": "code",
   "execution_count": 86,
   "id": "d20f515e",
   "metadata": {},
   "outputs": [],
   "source": [
    "with open('links.txt','a') as f:\n",
    "    for url in urls:\n",
    "        f.write(url)\n",
    "        f.write('\\n')"
   ]
  },
  {
   "cell_type": "code",
   "execution_count": 89,
   "id": "2491657d",
   "metadata": {},
   "outputs": [],
   "source": [
    "import pandas as pd\n",
    "import numpy as np\n",
    "  \n",
    "\n",
    "df_new = pd.read_csv('output.csv')\n",
    "  \n",
    "# saving xlsx file\n",
    "GFG = pd.ExcelWriter('output.xlsx')\n",
    "df_new.to_excel(GFG, index = False)\n",
    "  \n",
    "GFG.save()"
   ]
  },
  {
   "cell_type": "code",
   "execution_count": null,
   "id": "656ceb47",
   "metadata": {},
   "outputs": [],
   "source": []
  }
 ],
 "metadata": {
  "kernelspec": {
   "display_name": "Python 3",
   "language": "python",
   "name": "python3"
  },
  "language_info": {
   "codemirror_mode": {
    "name": "ipython",
    "version": 3
   },
   "file_extension": ".py",
   "mimetype": "text/x-python",
   "name": "python",
   "nbconvert_exporter": "python",
   "pygments_lexer": "ipython3",
   "version": "3.8.5"
  }
 },
 "nbformat": 4,
 "nbformat_minor": 5
}
